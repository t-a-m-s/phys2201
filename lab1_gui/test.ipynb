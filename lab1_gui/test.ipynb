{
 "cells": [
  {
   "cell_type": "code",
   "execution_count": 44,
   "metadata": {},
   "outputs": [],
   "source": [
    "import sys\n",
    "import PyQt5.QtWidgets as widget\n",
    "import matplotlib as mpl\n",
    "import matplotlib.pyplot as plt\n",
    "\n",
    "from matplotlib.figure import Figure as Fig\n",
    "#from matplotlib.markers import Markers\n",
    "import numpy as np\n",
    "import numpy.random as rand"
   ]
  },
  {
   "cell_type": "code",
   "execution_count": 17,
   "metadata": {},
   "outputs": [
    {
     "data": {
      "text/plain": [
       "Text(0.5, 0, 'bar')"
      ]
     },
     "execution_count": 17,
     "metadata": {},
     "output_type": "execute_result"
    }
   ],
   "source": []
  },
  {
   "cell_type": "code",
   "execution_count": 38,
   "metadata": {},
   "outputs": [
    {
     "name": "stdout",
     "output_type": "stream",
     "text": [
      "None\n"
     ]
    }
   ],
   "source": [
    "lines = plt.plot([1, 2, 3, 4], [1, 4, 9, 16])\n",
    "plt.setp(lines,marker='D')\n",
    "plt.ylabel('foo')\n",
    "plt.xlabel('bar')\n",
    "\n",
    "my_x = np.array([1, 2, 3, 4])\n",
    "my_y = np.array([1, 4, 9, 16])\n",
    "eps = 0.1\n",
    "\n",
    "def format_coord(x, y):\n",
    "    close_x = np.isclose(my_x, x, atol=eps)\n",
    "    close_y = np.isclose(my_y, y, atol=eps)\n",
    "    if np.any(close_x) and np.any(close_y):\n",
    "        #print('True')\n",
    "\n",
    "        plt.annotate(f'({x},{y})', xy=(x+.5, y+.5))\n",
    "\n",
    "        \n",
    "        return 'x=%s y=%s' % (ax.format_xdata(my_x[close_x]), ax.format_ydata(my_y[close_y]))\n",
    "    else:\n",
    "        return ''\n",
    "\n",
    "ax = plt.gca()\n",
    "line = ax.lines[0]\n",
    "\n",
    "for marker in line.get\n",
    "    #marker.set_picker(True)\n",
    "\n",
    "\n",
    "def onclick(event):\n",
    "    mouseevent = event.mouseevent\n",
    "    artist = event.artist\n",
    "    \n",
    "    print('Clicked')\n",
    "\n",
    "fig, ax = plt.subplots()\n",
    "ax.plot(my_x, my_y, 'D-')\n",
    "ax.set_ylabel('foo')\n",
    "ax.set_xlabel('bar')\n",
    "ax.format_coord = format_coord\n",
    "\n",
    "fig.canvas.mpl_connect('pick_event', onclick)\n",
    "\n",
    "plt.show()"
   ]
  },
  {
   "cell_type": "code",
   "execution_count": 49,
   "metadata": {},
   "outputs": [
    {
     "name": "stdout",
     "output_type": "stream",
     "text": [
      "onpick3 scatter: [43] [0.31932033] [0.54805851]\n",
      "onpick3 scatter: [1] [0.45217333] [0.90946996]\n",
      "onpick3 scatter: [27] [0.81927746] [0.71963484]\n",
      "onpick3 scatter: [80] [0.69439132] [0.83291632]\n"
     ]
    }
   ],
   "source": [
    "\n",
    "x, y, c, s = np.random.rand(4, 100)\n",
    "\n",
    "\n",
    "def onpick3(event):\n",
    "    ind = event.ind\n",
    "    print('onpick3 scatter:', ind, x[ind], y[ind])\n",
    "\n",
    "\n",
    "fig, ax = plt.subplots()\n",
    "ax.scatter(x, y, 100*s, c, picker=True)\n",
    "fig.canvas.mpl_connect('pick_event', onpick3)\n",
    "plt.show()\n",
    "    "
   ]
  },
  {
   "cell_type": "code",
   "execution_count": null,
   "metadata": {},
   "outputs": [],
   "source": []
  }
 ],
 "metadata": {
  "kernelspec": {
   "display_name": "guipy",
   "language": "python",
   "name": "python3"
  },
  "language_info": {
   "codemirror_mode": {
    "name": "ipython",
    "version": 3
   },
   "file_extension": ".py",
   "mimetype": "text/x-python",
   "name": "python",
   "nbconvert_exporter": "python",
   "pygments_lexer": "ipython3",
   "version": "3.11.9"
  }
 },
 "nbformat": 4,
 "nbformat_minor": 2
}
